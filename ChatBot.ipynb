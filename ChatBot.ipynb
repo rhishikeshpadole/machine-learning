{
  "nbformat": 4,
  "nbformat_minor": 0,
  "metadata": {
    "colab": {
      "name": "ChatBot.ipynb",
      "version": "0.3.2",
      "provenance": [],
      "include_colab_link": true
    },
    "kernelspec": {
      "name": "python3",
      "display_name": "Python 3"
    }
  },
  "cells": [
    {
      "cell_type": "markdown",
      "metadata": {
        "id": "view-in-github",
        "colab_type": "text"
      },
      "source": [
        "<a href=\"https://colab.research.google.com/github/rhishikeshpadole/machine-learning/blob/master/ChatBot.ipynb\" target=\"_parent\"><img src=\"https://colab.research.google.com/assets/colab-badge.svg\" alt=\"Open In Colab\"/></a>"
      ]
    },
    {
      "metadata": {
        "id": "lF5eD6tf8_5V",
        "colab_type": "code",
        "colab": {
          "base_uri": "https://localhost:8080/",
          "height": 554
        },
        "outputId": "c6b4e56f-e87a-4c6a-95b5-4ebb06029369"
      },
      "cell_type": "code",
      "source": [
        "!pip install spacy"
      ],
      "execution_count": 3,
      "outputs": [
        {
          "output_type": "stream",
          "text": [
            "Requirement already satisfied: spacy in /usr/local/lib/python3.6/dist-packages (2.0.18)\n",
            "Requirement already satisfied: cymem<2.1.0,>=2.0.2 in /usr/local/lib/python3.6/dist-packages (from spacy) (2.0.2)\n",
            "Requirement already satisfied: thinc<6.13.0,>=6.12.1 in /usr/local/lib/python3.6/dist-packages (from spacy) (6.12.1)\n",
            "Requirement already satisfied: dill<0.3,>=0.2 in /usr/local/lib/python3.6/dist-packages (from spacy) (0.2.9)\n",
            "Requirement already satisfied: murmurhash<1.1.0,>=0.28.0 in /usr/local/lib/python3.6/dist-packages (from spacy) (1.0.2)\n",
            "Requirement already satisfied: plac<1.0.0,>=0.9.6 in /usr/local/lib/python3.6/dist-packages (from spacy) (0.9.6)\n",
            "Requirement already satisfied: ujson>=1.35 in /usr/local/lib/python3.6/dist-packages (from spacy) (1.35)\n",
            "Requirement already satisfied: regex==2018.01.10 in /usr/local/lib/python3.6/dist-packages (from spacy) (2018.1.10)\n",
            "Requirement already satisfied: preshed<2.1.0,>=2.0.1 in /usr/local/lib/python3.6/dist-packages (from spacy) (2.0.1)\n",
            "Requirement already satisfied: requests<3.0.0,>=2.13.0 in /usr/local/lib/python3.6/dist-packages (from spacy) (2.21.0)\n",
            "Requirement already satisfied: numpy>=1.15.0 in /usr/local/lib/python3.6/dist-packages (from spacy) (1.16.2)\n",
            "Requirement already satisfied: six<2.0.0,>=1.10.0 in /usr/local/lib/python3.6/dist-packages (from thinc<6.13.0,>=6.12.1->spacy) (1.11.0)\n",
            "Requirement already satisfied: msgpack-numpy<0.4.4 in /usr/local/lib/python3.6/dist-packages (from thinc<6.13.0,>=6.12.1->spacy) (0.4.3.2)\n",
            "Requirement already satisfied: msgpack<0.6.0,>=0.5.6 in /usr/local/lib/python3.6/dist-packages (from thinc<6.13.0,>=6.12.1->spacy) (0.5.6)\n",
            "Collecting wrapt<1.11.0,>=1.10.0 (from thinc<6.13.0,>=6.12.1->spacy)\n",
            "  Downloading https://files.pythonhosted.org/packages/a0/47/66897906448185fcb77fc3c2b1bc20ed0ecca81a0f2f88eda3fc5a34fc3d/wrapt-1.10.11.tar.gz\n",
            "Requirement already satisfied: cytoolz<0.10,>=0.9.0 in /usr/local/lib/python3.6/dist-packages (from thinc<6.13.0,>=6.12.1->spacy) (0.9.0.1)\n",
            "Requirement already satisfied: tqdm<5.0.0,>=4.10.0 in /usr/local/lib/python3.6/dist-packages (from thinc<6.13.0,>=6.12.1->spacy) (4.28.1)\n",
            "Requirement already satisfied: urllib3<1.25,>=1.21.1 in /usr/local/lib/python3.6/dist-packages (from requests<3.0.0,>=2.13.0->spacy) (1.22)\n",
            "Requirement already satisfied: certifi>=2017.4.17 in /usr/local/lib/python3.6/dist-packages (from requests<3.0.0,>=2.13.0->spacy) (2018.11.29)\n",
            "Requirement already satisfied: idna<2.9,>=2.5 in /usr/local/lib/python3.6/dist-packages (from requests<3.0.0,>=2.13.0->spacy) (2.6)\n",
            "Requirement already satisfied: chardet<3.1.0,>=3.0.2 in /usr/local/lib/python3.6/dist-packages (from requests<3.0.0,>=2.13.0->spacy) (3.0.4)\n",
            "Requirement already satisfied: toolz>=0.8.0 in /usr/local/lib/python3.6/dist-packages (from cytoolz<0.10,>=0.9.0->thinc<6.13.0,>=6.12.1->spacy) (0.9.0)\n",
            "Building wheels for collected packages: wrapt\n",
            "  Building wheel for wrapt (setup.py) ... \u001b[?25ldone\n",
            "\u001b[?25h  Stored in directory: /root/.cache/pip/wheels/48/5d/04/22361a593e70d23b1f7746d932802efe1f0e523376a74f321e\n",
            "Successfully built wrapt\n",
            "Installing collected packages: wrapt\n",
            "  Found existing installation: wrapt 1.11.1\n",
            "    Uninstalling wrapt-1.11.1:\n",
            "      Successfully uninstalled wrapt-1.11.1\n",
            "Successfully installed wrapt-1.10.11\n"
          ],
          "name": "stdout"
        }
      ]
    },
    {
      "metadata": {
        "id": "GOraRJhL9ClL",
        "colab_type": "code",
        "colab": {}
      },
      "cell_type": "code",
      "source": [
        "import rasa_nlu, rasa_core, spacy"
      ],
      "execution_count": 0,
      "outputs": []
    },
    {
      "metadata": {
        "id": "y_B1Yj_u-zDw",
        "colab_type": "code",
        "colab": {}
      },
      "cell_type": "code",
      "source": [
        "import numpy as np, pandas as pd"
      ],
      "execution_count": 0,
      "outputs": []
    },
    {
      "metadata": {
        "id": "w6hSg75RAJB_",
        "colab_type": "code",
        "colab": {}
      },
      "cell_type": "code",
      "source": [
        "from google.colab import drive"
      ],
      "execution_count": 0,
      "outputs": []
    },
    {
      "metadata": {
        "id": "SKugpFZdAR4-",
        "colab_type": "code",
        "colab": {
          "base_uri": "https://localhost:8080/",
          "height": 34
        },
        "outputId": "c3c64b89-5f6d-40d0-d373-b8baa2a4776a"
      },
      "cell_type": "code",
      "source": [
        "drive.mount('/content/gdrive')"
      ],
      "execution_count": 8,
      "outputs": [
        {
          "output_type": "stream",
          "text": [
            "Drive already mounted at /content/gdrive; to attempt to forcibly remount, call drive.mount(\"/content/gdrive\", force_remount=True).\n"
          ],
          "name": "stdout"
        }
      ]
    },
    {
      "metadata": {
        "id": "uReqcxqvAZkH",
        "colab_type": "code",
        "colab": {
          "base_uri": "https://localhost:8080/",
          "height": 1008
        },
        "outputId": "3a536476-e2d7-41ec-82ed-69cd45f914e9"
      },
      "cell_type": "code",
      "source": [
        "import glob\n",
        "glob.glob('/content/gdrive/My Drive/*')"
      ],
      "execution_count": 14,
      "outputs": [
        {
          "output_type": "execute_result",
          "data": {
            "text/plain": [
              "['/content/gdrive/My Drive/Parent_AFD_4237327_410201665828819.pdf',\n",
              " '/content/gdrive/My Drive/Rhishikesh Padole_46.jpg',\n",
              " '/content/gdrive/My Drive/20170729_183908.jpg',\n",
              " '/content/gdrive/My Drive/IMG_20180316_202108.jpg',\n",
              " '/content/gdrive/My Drive/IMG_20180316_202112.jpg',\n",
              " '/content/gdrive/My Drive/IMG_20180316_202354.jpg',\n",
              " '/content/gdrive/My Drive/IMG_20180316_202106.jpg',\n",
              " '/content/gdrive/My Drive/New Doc 2018-02-19 (1) (1).jpg',\n",
              " '/content/gdrive/My Drive/Baroda Education Loans_PGDDS MAHE_Revised.pdf',\n",
              " '/content/gdrive/My Drive/Avanse.rar',\n",
              " '/content/gdrive/My Drive/Form (1).pdf',\n",
              " '/content/gdrive/My Drive/img486.jpg',\n",
              " '/content/gdrive/My Drive/img487.pdf',\n",
              " '/content/gdrive/My Drive/img488.pdf',\n",
              " '/content/gdrive/My Drive/img489.pdf',\n",
              " '/content/gdrive/My Drive/img490.pdf',\n",
              " '/content/gdrive/My Drive/DSC_1755.jpg',\n",
              " '/content/gdrive/My Drive/Case Study.gdoc',\n",
              " '/content/gdrive/My Drive/Untitled spreadsheet (1).gsheet',\n",
              " '/content/gdrive/My Drive/To-do list.gsheet',\n",
              " '/content/gdrive/My Drive/IMG_20180412_235207.jpg',\n",
              " '/content/gdrive/My Drive/IMG-20170218-WA0015.jpg',\n",
              " '/content/gdrive/My Drive/IMG-20170218-WA0016.jpg',\n",
              " '/content/gdrive/My Drive/IMG-20170218-WA0001.jpg',\n",
              " '/content/gdrive/My Drive/IMG-20170218-WA0002.jpg',\n",
              " '/content/gdrive/My Drive/IMG-20170218-WA0026.jpg',\n",
              " '/content/gdrive/My Drive/IMG-20170218-WA0025.jpg',\n",
              " '/content/gdrive/My Drive/IMG-20170218-WA0024.jpg',\n",
              " '/content/gdrive/My Drive/IMG-20170218-WA0023.jpg',\n",
              " '/content/gdrive/My Drive/IMG-20170218-WA0022.jpg',\n",
              " '/content/gdrive/My Drive/IMG-20170218-WA0019.jpg',\n",
              " '/content/gdrive/My Drive/IMG-20170218-WA0018.jpg',\n",
              " '/content/gdrive/My Drive/IMG-20170218-WA0017.jpg',\n",
              " '/content/gdrive/My Drive/IMG-20170218-WA0020.jpg',\n",
              " '/content/gdrive/My Drive/IMG-20170218-WA0021.jpg',\n",
              " '/content/gdrive/My Drive/Colab Notebooks',\n",
              " '/content/gdrive/My Drive/FB_IMG_1524462418571.jpg',\n",
              " '/content/gdrive/My Drive/IMG_20181201_140029.jpg',\n",
              " '/content/gdrive/My Drive/IMG_20181201_140031.jpg',\n",
              " '/content/gdrive/My Drive/IMG_20181201_140027.jpg',\n",
              " '/content/gdrive/My Drive/IMG_20181201_140032.jpg',\n",
              " '/content/gdrive/My Drive/shadow boxing.mp4',\n",
              " '/content/gdrive/My Drive/Untitled folder',\n",
              " '/content/gdrive/My Drive/New Doc 2019-01-09.pdf',\n",
              " '/content/gdrive/My Drive/Untitled spreadsheet.gsheet',\n",
              " '/content/gdrive/My Drive/Decathlon Data modelling.gsheet',\n",
              " '/content/gdrive/My Drive/Delhi 3BHK flat.gsheet',\n",
              " '/content/gdrive/My Drive/pathivar shivaji.mp3',\n",
              " \"/content/gdrive/My Drive/Rhishikesh's Resume (1).pdf\",\n",
              " \"/content/gdrive/My Drive/Rhishikesh's Resume - rhishikesh padole.pdf\",\n",
              " '/content/gdrive/My Drive/non-creamy layer.pdf',\n",
              " '/content/gdrive/My Drive/20140620_181059.mp4',\n",
              " '/content/gdrive/My Drive/20140620_180425.mp4',\n",
              " \"/content/gdrive/My Drive/Rhishikesh's Resume.pdf\",\n",
              " '/content/gdrive/My Drive/Lung_Cancer_AI.zip',\n",
              " '/content/gdrive/My Drive/EET progress report Bhandara 25022019.pdf',\n",
              " '/content/gdrive/My Drive/Twitter_API_Key.txt',\n",
              " '/content/gdrive/My Drive/Notepads',\n",
              " '/content/gdrive/My Drive/ChatBot']"
            ]
          },
          "metadata": {
            "tags": []
          },
          "execution_count": 14
        }
      ]
    },
    {
      "metadata": {
        "id": "XYhtiS4NCmIz",
        "colab_type": "code",
        "colab": {}
      },
      "cell_type": "code",
      "source": [
        "from rasa_nlu.training_data import load_data\n",
        "from rasa_nlu import config\n",
        "from rasa_nlu.model import Trainer\n",
        "from rasa_nlu.model import Interpreter"
      ],
      "execution_count": 0,
      "outputs": []
    },
    {
      "metadata": {
        "id": "1psxHKNRE4uG",
        "colab_type": "code",
        "colab": {
          "base_uri": "https://localhost:8080/",
          "height": 118
        },
        "outputId": "a5c0a60f-8b5a-419a-a507-edbf9b948b68"
      },
      "cell_type": "code",
      "source": [
        "text = 'I love India, Today is, monday. Sachin,Gotte $2099000'\n",
        "import en_core_web_sm\n",
        "nlp = en_core_web_sm.load()\n",
        "doc = nlp(text)\n",
        "\n",
        "for i in doc.ents:\n",
        "  print(i.text, i.label_)"
      ],
      "execution_count": 32,
      "outputs": [
        {
          "output_type": "stream",
          "text": [
            "India GPE\n",
            "Today DATE\n",
            "monday DATE\n",
            "Sachin PERSON\n",
            "Gotte PERSON\n",
            "2099000 MONEY\n"
          ],
          "name": "stdout"
        }
      ]
    },
    {
      "metadata": {
        "id": "xzFXuJyqS5L_",
        "colab_type": "text"
      },
      "cell_type": "markdown",
      "source": [
        "# Build a Intent Recognization"
      ]
    },
    {
      "metadata": {
        "id": "c_cD59qFTAqg",
        "colab_type": "code",
        "colab": {}
      },
      "cell_type": "code",
      "source": [
        "training_data = load_data('/content/gdrive/My Drive/ChatBot/nlu-data-new.md')\n"
      ],
      "execution_count": 0,
      "outputs": []
    },
    {
      "metadata": {
        "id": "pZs6-Ajielaj",
        "colab_type": "code",
        "colab": {
          "base_uri": "https://localhost:8080/",
          "height": 205
        },
        "outputId": "5fc1814b-a062-4ca3-a887-3270da48e37f"
      },
      "cell_type": "code",
      "source": [
        "!pip install sklearn_crfsuite"
      ],
      "execution_count": 39,
      "outputs": [
        {
          "output_type": "stream",
          "text": [
            "Collecting sklearn_crfsuite\n",
            "  Downloading https://files.pythonhosted.org/packages/25/74/5b7befa513482e6dee1f3dd68171a6c9dfc14c0eaa00f885ffeba54fe9b0/sklearn_crfsuite-0.3.6-py2.py3-none-any.whl\n",
            "Collecting python-crfsuite>=0.8.3 (from sklearn_crfsuite)\n",
            "\u001b[?25l  Downloading https://files.pythonhosted.org/packages/2f/86/cfcd71edca9d25d3d331209a20f6314b6f3f134c29478f90559cee9ce091/python_crfsuite-0.9.6-cp36-cp36m-manylinux1_x86_64.whl (754kB)\n",
            "\u001b[K    100% |████████████████████████████████| 757kB 17.8MB/s \n",
            "\u001b[?25hRequirement already satisfied: tqdm>=2.0 in /usr/local/lib/python3.6/dist-packages (from sklearn_crfsuite) (4.28.1)\n",
            "Requirement already satisfied: six in /usr/local/lib/python3.6/dist-packages (from sklearn_crfsuite) (1.11.0)\n",
            "Requirement already satisfied: tabulate in /usr/local/lib/python3.6/dist-packages (from sklearn_crfsuite) (0.8.3)\n",
            "Installing collected packages: python-crfsuite, sklearn-crfsuite\n",
            "Successfully installed python-crfsuite-0.9.6 sklearn-crfsuite-0.3.6\n"
          ],
          "name": "stdout"
        }
      ]
    },
    {
      "metadata": {
        "id": "mYgoyeSBYxw_",
        "colab_type": "code",
        "colab": {
          "base_uri": "https://localhost:8080/",
          "height": 34
        },
        "outputId": "a930a3a9-2dd1-4a8f-b60a-8938963d35e7"
      },
      "cell_type": "code",
      "source": [
        "settings_md = \"\"\" \n",
        "language: \"en\" \n",
        "pipeline:\n",
        "- name: \"nlp_spacy\"\n",
        "- name: \"tokenizer_spacy\"\n",
        "- name: \"intent_entity_featurizer_regex\"\n",
        "- name: \"intent_featurizer_spacy\"\n",
        "- name: \"ner_crf\"\n",
        "- name: \"ner_spacy\"\n",
        "- name: \"ner_synonyms\"\n",
        "- name: \"intent_classifier_sklearn\"\n",
        "\"\"\"\n",
        "%store settings_md > '/content/gdrive/My Drive/ChatBot/nlu-setting.yml'"
      ],
      "execution_count": 37,
      "outputs": [
        {
          "output_type": "stream",
          "text": [
            "Writing 'settings_md' (str) to file '/content/gdrive/My Drive/ChatBot/nlu-setting.yml'.\n"
          ],
          "name": "stdout"
        }
      ]
    },
    {
      "metadata": {
        "id": "QgqnePrsZZi3",
        "colab_type": "code",
        "colab": {}
      },
      "cell_type": "code",
      "source": [
        "path = '/content/gdrive/My Drive/ChatBot/nlu-setting.yml'\n",
        "trainer = Trainer(config.load(path))"
      ],
      "execution_count": 0,
      "outputs": []
    },
    {
      "metadata": {
        "id": "4BfJsRDQeQG7",
        "colab_type": "code",
        "colab": {
          "base_uri": "https://localhost:8080/",
          "height": 67
        },
        "outputId": "69a4a9cb-ed42-4885-a614-4355f811859a"
      },
      "cell_type": "code",
      "source": [
        "trainer.train(training_data)\n",
        "path_model = '/content/gdrive/My Drive/ChatBot/models/'\n",
        "model_directory = trainer.persist(path_model,\n",
        "                                 fixed_model_name = \"current\")"
      ],
      "execution_count": 41,
      "outputs": [
        {
          "output_type": "stream",
          "text": [
            "Fitting 2 folds for each of 6 candidates, totalling 12 fits\n"
          ],
          "name": "stdout"
        },
        {
          "output_type": "stream",
          "text": [
            "[Parallel(n_jobs=1)]: Using backend SequentialBackend with 1 concurrent workers.\n",
            "[Parallel(n_jobs=1)]: Done  12 out of  12 | elapsed:    0.0s finished\n"
          ],
          "name": "stderr"
        }
      ]
    },
    {
      "metadata": {
        "id": "q5ZJrvhjgBNZ",
        "colab_type": "code",
        "colab": {}
      },
      "cell_type": "code",
      "source": [
        ""
      ],
      "execution_count": 0,
      "outputs": []
    }
  ]
}