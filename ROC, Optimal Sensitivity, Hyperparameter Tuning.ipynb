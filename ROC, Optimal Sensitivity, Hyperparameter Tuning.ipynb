{
 "cells": [
  {
   "cell_type": "markdown",
   "metadata": {},
   "source": [
    "# Sensitivity, ROC, Optimal Sensitivity, Hyperparameter Tuning, improving the perforance of model"
   ]
  },
  {
   "cell_type": "code",
   "execution_count": 117,
   "metadata": {},
   "outputs": [],
   "source": [
    "import pandas as pd\n",
    "import numpy as np\n",
    "credit = pd.read_csv(\"C:/Users/Administrator/Downloads/credit-default.csv\") "
   ]
  },
  {
   "cell_type": "code",
   "execution_count": 118,
   "metadata": {},
   "outputs": [],
   "source": [
    "credit_dummies = pd.get_dummies(credit.drop('default', axis=1))\n",
    "credit_dummies['default'] = credit['default']\n",
    "\n",
    "from sklearn.model_selection import train_test_split\n",
    "\n",
    "train, test = train_test_split(credit_dummies, test_size = 0.3, random_state=100)"
   ]
  },
  {
   "cell_type": "code",
   "execution_count": 119,
   "metadata": {},
   "outputs": [],
   "source": [
    "train_x = train.drop('default', axis=1)\n",
    "train_y = train['default']\n",
    "test_x = test.drop('default', axis=1)\n",
    "test_y = test['default']"
   ]
  },
  {
   "cell_type": "code",
   "execution_count": 120,
   "metadata": {},
   "outputs": [],
   "source": [
    "from sklearn.ensemble import RandomForestClassifier\n",
    "m2 = RandomForestClassifier(random_state=100)\n",
    "m2.fit(train_x, train_y)\n",
    "test_pred = m2.predict(test_x)"
   ]
  },
  {
   "cell_type": "code",
   "execution_count": 121,
   "metadata": {},
   "outputs": [],
   "source": [
    "df = pd.DataFrame({'actual':test_y,'predicted':test_pred})"
   ]
  },
  {
   "cell_type": "code",
   "execution_count": 122,
   "metadata": {},
   "outputs": [],
   "source": [
    "df['stat'] = df['actual'] == df['predicted']"
   ]
  },
  {
   "cell_type": "code",
   "execution_count": 123,
   "metadata": {},
   "outputs": [
    {
     "data": {
      "text/plain": [
       "True     76.0\n",
       "False    24.0\n",
       "Name: stat, dtype: float64"
      ]
     },
     "execution_count": 123,
     "metadata": {},
     "output_type": "execute_result"
    }
   ],
   "source": [
    "df['stat'].value_counts()/ df.shape[0]*100"
   ]
  },
  {
   "cell_type": "code",
   "execution_count": 124,
   "metadata": {},
   "outputs": [
    {
     "data": {
      "text/plain": [
       "array([[200,  19],\n",
       "       [ 53,  28]], dtype=int64)"
      ]
     },
     "execution_count": 124,
     "metadata": {},
     "output_type": "execute_result"
    }
   ],
   "source": [
    "from sklearn.metrics import confusion_matrix\n",
    "confusion_matrix(test_y, test_pred)"
   ]
  },
  {
   "cell_type": "code",
   "execution_count": 125,
   "metadata": {},
   "outputs": [],
   "source": [
    "probs = pd.DataFrame(m2.predict_proba(test_x),columns=['Neg_1','Pos_2'])"
   ]
  },
  {
   "cell_type": "code",
   "execution_count": 126,
   "metadata": {},
   "outputs": [
    {
     "data": {
      "text/html": [
       "<div>\n",
       "<style scoped>\n",
       "    .dataframe tbody tr th:only-of-type {\n",
       "        vertical-align: middle;\n",
       "    }\n",
       "\n",
       "    .dataframe tbody tr th {\n",
       "        vertical-align: top;\n",
       "    }\n",
       "\n",
       "    .dataframe thead th {\n",
       "        text-align: right;\n",
       "    }\n",
       "</style>\n",
       "<table border=\"1\" class=\"dataframe\">\n",
       "  <thead>\n",
       "    <tr style=\"text-align: right;\">\n",
       "      <th></th>\n",
       "      <th>Neg_1</th>\n",
       "      <th>Pos_2</th>\n",
       "    </tr>\n",
       "  </thead>\n",
       "  <tbody>\n",
       "    <tr>\n",
       "      <th>0</th>\n",
       "      <td>0.5</td>\n",
       "      <td>0.5</td>\n",
       "    </tr>\n",
       "    <tr>\n",
       "      <th>1</th>\n",
       "      <td>0.1</td>\n",
       "      <td>0.9</td>\n",
       "    </tr>\n",
       "    <tr>\n",
       "      <th>2</th>\n",
       "      <td>0.7</td>\n",
       "      <td>0.3</td>\n",
       "    </tr>\n",
       "    <tr>\n",
       "      <th>3</th>\n",
       "      <td>0.3</td>\n",
       "      <td>0.7</td>\n",
       "    </tr>\n",
       "    <tr>\n",
       "      <th>4</th>\n",
       "      <td>0.6</td>\n",
       "      <td>0.4</td>\n",
       "    </tr>\n",
       "  </tbody>\n",
       "</table>\n",
       "</div>"
      ],
      "text/plain": [
       "   Neg_1  Pos_2\n",
       "0    0.5    0.5\n",
       "1    0.1    0.9\n",
       "2    0.7    0.3\n",
       "3    0.3    0.7\n",
       "4    0.6    0.4"
      ]
     },
     "execution_count": 126,
     "metadata": {},
     "output_type": "execute_result"
    }
   ],
   "source": [
    "probs.head()"
   ]
  },
  {
   "cell_type": "code",
   "execution_count": 127,
   "metadata": {},
   "outputs": [],
   "source": [
    "cut_off = 0.3\n",
    "test_pred = probs['Pos_2'].apply(lambda v: 2 if v> cut_off else 1)\n",
    "import secrets"
   ]
  },
  {
   "cell_type": "code",
   "execution_count": 128,
   "metadata": {},
   "outputs": [
    {
     "data": {
      "text/plain": [
       "0    67.9\n",
       "dtype: float64"
      ]
     },
     "execution_count": 128,
     "metadata": {},
     "output_type": "execute_result"
    }
   ],
   "source": [
    "d1 = secrets.model_testing(test_y, test_pred)\n",
    "round((d1['Sensitivity']+d1['Specificity'])/2, 1)"
   ]
  },
  {
   "cell_type": "code",
   "execution_count": 129,
   "metadata": {},
   "outputs": [
    {
     "data": {
      "text/html": [
       "<div>\n",
       "<style scoped>\n",
       "    .dataframe tbody tr th:only-of-type {\n",
       "        vertical-align: middle;\n",
       "    }\n",
       "\n",
       "    .dataframe tbody tr th {\n",
       "        vertical-align: top;\n",
       "    }\n",
       "\n",
       "    .dataframe thead th {\n",
       "        text-align: right;\n",
       "    }\n",
       "</style>\n",
       "<table border=\"1\" class=\"dataframe\">\n",
       "  <thead>\n",
       "    <tr style=\"text-align: right;\">\n",
       "      <th></th>\n",
       "      <th>Accuracy</th>\n",
       "      <th>Sensitivity</th>\n",
       "      <th>Specificity</th>\n",
       "    </tr>\n",
       "  </thead>\n",
       "  <tbody>\n",
       "    <tr>\n",
       "      <th>0</th>\n",
       "      <td>69.0</td>\n",
       "      <td>65.432099</td>\n",
       "      <td>70.319635</td>\n",
       "    </tr>\n",
       "  </tbody>\n",
       "</table>\n",
       "</div>"
      ],
      "text/plain": [
       "   Accuracy  Sensitivity  Specificity\n",
       "0      69.0    65.432099    70.319635"
      ]
     },
     "execution_count": 129,
     "metadata": {},
     "output_type": "execute_result"
    }
   ],
   "source": [
    "d1"
   ]
  },
  {
   "cell_type": "code",
   "execution_count": 130,
   "metadata": {},
   "outputs": [
    {
     "data": {
      "text/html": [
       "<div>\n",
       "<style scoped>\n",
       "    .dataframe tbody tr th:only-of-type {\n",
       "        vertical-align: middle;\n",
       "    }\n",
       "\n",
       "    .dataframe tbody tr th {\n",
       "        vertical-align: top;\n",
       "    }\n",
       "\n",
       "    .dataframe thead th {\n",
       "        text-align: right;\n",
       "    }\n",
       "</style>\n",
       "<table border=\"1\" class=\"dataframe\">\n",
       "  <thead>\n",
       "    <tr style=\"text-align: right;\">\n",
       "      <th></th>\n",
       "      <th>cut_off</th>\n",
       "      <th>sensitivity</th>\n",
       "      <th>specificity</th>\n",
       "      <th>avg</th>\n",
       "    </tr>\n",
       "  </thead>\n",
       "  <tbody>\n",
       "    <tr>\n",
       "      <th>0</th>\n",
       "      <td>0.000000</td>\n",
       "      <td>0.950617</td>\n",
       "      <td>0.86758</td>\n",
       "      <td>0.458701</td>\n",
       "    </tr>\n",
       "    <tr>\n",
       "      <th>1</th>\n",
       "      <td>0.047619</td>\n",
       "      <td>0.950617</td>\n",
       "      <td>0.86758</td>\n",
       "      <td>0.458701</td>\n",
       "    </tr>\n",
       "    <tr>\n",
       "      <th>2</th>\n",
       "      <td>0.095238</td>\n",
       "      <td>0.950617</td>\n",
       "      <td>0.86758</td>\n",
       "      <td>0.458701</td>\n",
       "    </tr>\n",
       "    <tr>\n",
       "      <th>3</th>\n",
       "      <td>0.142857</td>\n",
       "      <td>0.901235</td>\n",
       "      <td>0.66210</td>\n",
       "      <td>0.402790</td>\n",
       "    </tr>\n",
       "    <tr>\n",
       "      <th>4</th>\n",
       "      <td>0.190476</td>\n",
       "      <td>0.901235</td>\n",
       "      <td>0.66210</td>\n",
       "      <td>0.402790</td>\n",
       "    </tr>\n",
       "  </tbody>\n",
       "</table>\n",
       "</div>"
      ],
      "text/plain": [
       "    cut_off  sensitivity  specificity       avg\n",
       "0  0.000000     0.950617      0.86758  0.458701\n",
       "1  0.047619     0.950617      0.86758  0.458701\n",
       "2  0.095238     0.950617      0.86758  0.458701\n",
       "3  0.142857     0.901235      0.66210  0.402790\n",
       "4  0.190476     0.901235      0.66210  0.402790"
      ]
     },
     "execution_count": 130,
     "metadata": {},
     "output_type": "execute_result"
    }
   ],
   "source": [
    "import numpy as np\n",
    "\n",
    "cut_offs = []\n",
    "tpr = []\n",
    "fpr = []\n",
    "\n",
    "for cut_off in np.linspace(0,1,22):\n",
    "    test_pred = probs['Pos_2'].apply(lambda v: 2 if v> cut_off else 1)\n",
    "    tn,fp,fn,tp = confusion_matrix(test_y, test_pred, labels=[1,2]).ravel()\n",
    "    sensitivity = (tp)/(tp+fn)\n",
    "    specificity = (tn)/(tn+fp)\n",
    "    cut_offs.append(cut_off)\n",
    "    tpr.append(sensitivity)\n",
    "    fpr.append(1-specificity)\n",
    "\n",
    "dfg = pd.DataFrame({'cut_off':cut_offs,'sensitivity':tpr,'specificity':fpr})  # just for understanding\n",
    "dfg['avg'] = ((0.6*dfg['sensitivity']) + (0.4 * dfg['specificity']))/2\n",
    "dfg.head()"
   ]
  },
  {
   "cell_type": "code",
   "execution_count": 131,
   "metadata": {},
   "outputs": [],
   "source": [
    "import matplotlib.pyplot as plt"
   ]
  },
  {
   "cell_type": "code",
   "execution_count": 132,
   "metadata": {},
   "outputs": [
    {
     "data": {
      "text/plain": [
       "[<matplotlib.lines.Line2D at 0x20435ba55c0>]"
      ]
     },
     "execution_count": 132,
     "metadata": {},
     "output_type": "execute_result"
    },
    {
     "data": {
      "image/png": "[encoded data removed]",
      "text/plain": [
       "<matplotlib.figure.Figure at 0x20435af1cf8>"
      ]
     },
     "metadata": {},
     "output_type": "display_data"
    }
   ],
   "source": [
    "plt.plot(fpr, tpr)"
   ]
  },
  {
   "cell_type": "markdown",
   "metadata": {},
   "source": [
    "# There is in-built function for ROC curve"
   ]
  },
  {
   "cell_type": "code",
   "execution_count": 133,
   "metadata": {},
   "outputs": [
    {
     "data": {
      "text/plain": [
       "[<matplotlib.lines.Line2D at 0x20435be2630>]"
      ]
     },
     "execution_count": 133,
     "metadata": {},
     "output_type": "execute_result"
    },
    {
     "data": {
      "image/png": "[encoded data removed]",
      "text/plain": [
       "<matplotlib.figure.Figure at 0x20435b89320>"
      ]
     },
     "metadata": {},
     "output_type": "display_data"
    }
   ],
   "source": [
    "from sklearn.metrics import roc_curve\n",
    "fpr, tpr, cutoffs = roc_curve(test_y, probs['Pos_2'], pos_label=2)\n",
    "plt.plot(fpr,tpr)"
   ]
  },
  {
   "cell_type": "code",
   "execution_count": 137,
   "metadata": {},
   "outputs": [
    {
     "data": {
      "text/html": [
       "<div>\n",
       "<style scoped>\n",
       "    .dataframe tbody tr th:only-of-type {\n",
       "        vertical-align: middle;\n",
       "    }\n",
       "\n",
       "    .dataframe tbody tr th {\n",
       "        vertical-align: top;\n",
       "    }\n",
       "\n",
       "    .dataframe thead th {\n",
       "        text-align: right;\n",
       "    }\n",
       "</style>\n",
       "<table border=\"1\" class=\"dataframe\">\n",
       "  <thead>\n",
       "    <tr style=\"text-align: right;\">\n",
       "      <th></th>\n",
       "      <th>cutoff</th>\n",
       "      <th>fpr</th>\n",
       "      <th>specificity</th>\n",
       "      <th>tpr</th>\n",
       "      <th>youden_index</th>\n",
       "    </tr>\n",
       "  </thead>\n",
       "  <tbody>\n",
       "    <tr>\n",
       "      <th>6</th>\n",
       "      <td>0.4</td>\n",
       "      <td>0.296804</td>\n",
       "      <td>0.703196</td>\n",
       "      <td>0.654321</td>\n",
       "      <td>0.357517</td>\n",
       "    </tr>\n",
       "  </tbody>\n",
       "</table>\n",
       "</div>"
      ],
      "text/plain": [
       "   cutoff       fpr  specificity       tpr  youden_index\n",
       "6     0.4  0.296804     0.703196  0.654321      0.357517"
      ]
     },
     "execution_count": 137,
     "metadata": {},
     "output_type": "execute_result"
    }
   ],
   "source": [
    "df_roc = pd.DataFrame({'cutoff':cutoffs,\n",
    "                      'fpr':fpr,\n",
    "                      'tpr':tpr,\n",
    "                      'specificity':1-fpr})\n",
    "df_roc['youden_index'] = df_roc['tpr'] + df_roc['specificity'] - 1\n",
    "df_roc.sort_values(by='youden_index', ascending=False).head(1)"
   ]
  },
  {
   "cell_type": "code",
   "execution_count": 139,
   "metadata": {},
   "outputs": [],
   "source": [
    "test_pred_new = probs['Pos_2'].apply(lambda v: 2 if v>0.4 else 1)"
   ]
  },
  {
   "cell_type": "code",
   "execution_count": 143,
   "metadata": {},
   "outputs": [
    {
     "data": {
      "text/plain": [
       "0    2\n",
       "1    2\n",
       "2    1\n",
       "3    2\n",
       "4    1\n",
       "Name: Pos_2, dtype: int64"
      ]
     },
     "execution_count": 143,
     "metadata": {},
     "output_type": "execute_result"
    }
   ],
   "source": [
    "test_pred_new.head()"
   ]
  },
  {
   "cell_type": "code",
   "execution_count": 146,
   "metadata": {},
   "outputs": [
    {
     "name": "stdout",
     "output_type": "stream",
     "text": [
      "Random Forest AUC: 0.75\n",
      "AdaBoost AUC: 0.74\n"
     ]
    },
    {
     "data": {
      "image/png": "[encoded data removed]",
      "text/plain": [
       "<matplotlib.figure.Figure at 0x20435f662e8>"
      ]
     },
     "metadata": {},
     "output_type": "display_data"
    }
   ],
   "source": [
    "from sklearn.metrics import roc_auc_score, auc\n",
    "model1 = RandomForestClassifier(random_state=100, n_estimators=1000)       # AUC: Area Under Curve\n",
    "model1.fit(train_x, train_y)\n",
    "probs1 = pd.DataFrame(model1.predict_proba(test_x),\n",
    "                     columns=['Neg_1','Pos_2'])\n",
    "fpr, tpr, cutoffs = roc_curve(test_y,probs1['Pos_2'], pos_label=2)\n",
    "auc_rf = auc(fpr, tpr)\n",
    "plt.plot(fpr,tpr, color='green')\n",
    "\n",
    "print('Random Forest AUC: %.2f' % auc_rf)\n",
    "from sklearn.ensemble import AdaBoostClassifier\n",
    "model2 = AdaBoostClassifier(random_state=100)\n",
    "model2.fit(train_x, train_y)\n",
    "probs2 = pd.DataFrame(model2.predict_proba(test_x),\n",
    "                     columns=['Neg_1','Pos_2'])\n",
    "fpr, tpr, cutoffs = roc_curve(test_y,probs2['Pos_2'], pos_label=2)\n",
    "auc_ada = auc(fpr, tpr)\n",
    "plt.plot(fpr,tpr, color='red')\n",
    "\n",
    "print('AdaBoost AUC: %.2f' % auc_ada)\n",
    "\n"
   ]
  },
  {
   "cell_type": "markdown",
   "metadata": {},
   "source": [
    "# Model performance on HR dataset"
   ]
  },
  {
   "cell_type": "code",
   "execution_count": 147,
   "metadata": {},
   "outputs": [],
   "source": [
    "import numpy as np\n",
    "import pandas as pd\n",
    "hr = pd.read_csv('D:/Downloaded rcodes and datasets/HR Analytics.csv')"
   ]
  },
  {
   "cell_type": "code",
   "execution_count": 161,
   "metadata": {},
   "outputs": [],
   "source": [
    "hr_dummies = pd.get_dummies(hr.drop('Attrition', axis=1))\n",
    "hr_dummies['Attrition'] = hr['Attrition']\n",
    "from sklearn.model_selection import train_test_split\n",
    "train, test = train_test_split(hr_dummies, test_size = 0.3, random_state = 100)\n",
    "train_x = train.drop('Attrition',axis=1) \n",
    "train_y = train['Attrition']\n",
    "test_x = test.drop('Attrition',axis=1)\n",
    "test_y = test['Attrition']"
   ]
  },
  {
   "cell_type": "code",
   "execution_count": 168,
   "metadata": {},
   "outputs": [
    {
     "name": "stdout",
     "output_type": "stream",
     "text": [
      "Decision Tree AUC: 0.56\n",
      "Random Forest AUC: 0.56\n",
      "AdaBoost AUC: 0.73\n"
     ]
    },
    {
     "data": {
      "image/png": "[encoded data removed]",
      "text/plain": [
       "<matplotlib.figure.Figure at 0x204391a3438>"
      ]
     },
     "metadata": {},
     "output_type": "display_data"
    }
   ],
   "source": [
    "from sklearn.tree import DecisionTreeClassifier\n",
    "m1 = DecisionTreeClassifier(random_state=100)\n",
    "m1.fit(train_x, train_y)\n",
    "probs1 = pd.DataFrame(m1.predict_proba(test_x),\n",
    "                     columns=['Neg_1','Pos_2'])\n",
    "fpr, tpr, cutoffs = roc_curve(test_y,probs1['Pos_2'], pos_label=1)\n",
    "auc_dt = auc(fpr, tpr)\n",
    "plt.plot(fpr,tpr, color='blue')\n",
    "\n",
    "print('Decision Tree AUC: %.2f' % auc_dt)\n",
    "\n",
    "from sklearn.metrics import roc_auc_score, auc\n",
    "m2 = RandomForestClassifier(random_state=100, n_estimators=1000)       # AUC: Area Under Curve\n",
    "m2.fit(train_x, train_y)\n",
    "probs2 = pd.DataFrame(m2.predict_proba(test_x),\n",
    "                     columns=['Neg_1','Pos_2'])\n",
    "fpr, tpr, cutoffs = roc_curve(test_y,probs1['Pos_2'], pos_label=1)\n",
    "auc_rf = auc(fpr, tpr)\n",
    "plt.plot(fpr,tpr, color='green')\n",
    "\n",
    "print('Random Forest AUC: %.2f' % auc_rf)\n",
    "from sklearn.ensemble import AdaBoostClassifier\n",
    "m3 = AdaBoostClassifier(random_state=100)\n",
    "m3.fit(train_x, train_y)\n",
    "probs3 = pd.DataFrame(m3.predict_proba(test_x),\n",
    "                     columns=['Neg_1','Pos_2'])\n",
    "fpr, tpr, cutoffs = roc_curve(test_y,probs3['Pos_2'], pos_label=1)\n",
    "auc_ada = auc(fpr, tpr)\n",
    "plt.plot(fpr,tpr, color='red')\n",
    "print('AdaBoost AUC: %.2f' % auc_ada)"
   ]
  },
  {
   "cell_type": "code",
   "execution_count": null,
   "metadata": {},
   "outputs": [],
   "source": []
  },
  {
   "cell_type": "code",
   "execution_count": null,
   "metadata": {},
   "outputs": [],
   "source": []
  }
 ],
 "metadata": {
  "kernelspec": {
   "display_name": "Python 3",
   "language": "python",
   "name": "python3"
  },
  "language_info": {
   "codemirror_mode": {
    "name": "ipython",
    "version": 3
   },
   "file_extension": ".py",
   "mimetype": "text/x-python",
   "name": "python",
   "nbconvert_exporter": "python",
   "pygments_lexer": "ipython3",
   "version": "3.6.4"
  }
 },
 "nbformat": 4,
 "nbformat_minor": 2
}
